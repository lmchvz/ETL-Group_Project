{
 "cells": [
  {
   "cell_type": "code",
   "execution_count": null,
   "metadata": {},
   "outputs": [],
   "source": [
    "# Import Libraries\n",
    "import pandas as pd\n",
    "import ipykernel"
   ]
  },
  {
   "cell_type": "code",
   "execution_count": null,
   "metadata": {},
   "outputs": [],
   "source": [
    "# Import CSV file into DataFrame\n",
    "wd_deaths = pd.read_csv('./Resources/wd-deaths-natural-disasters.csv', sep=';')\n",
    "wd_deaths.head()"
   ]
  },
  {
   "cell_type": "code",
   "execution_count": null,
   "metadata": {},
   "outputs": [],
   "source": [
    "# Drop first two colunns to make a List of Column Names \n",
    "year_df = wd_deaths.drop(wd_deaths.columns[[0, 1]], axis=1)\n",
    "\n",
    "# Create List of Column Names \n",
    "column_names = list(year_df.columns.values)\n",
    "column_names"
   ]
  },
  {
   "cell_type": "code",
   "execution_count": null,
   "metadata": {},
   "outputs": [],
   "source": [
    "# Use Pandas Melt to combine Columns Names into one \"Year\" Column \n",
    "wd_deaths_melt = pd.melt(wd_deaths,\n",
    "                 id_vars=['Country Code',\n",
    "                          'Country Name'],\n",
    "                  value_vars= column_names ,\n",
    "                  var_name='Year')\n",
    "wd_deaths_melt.head()"
   ]
  },
  {
   "cell_type": "code",
   "execution_count": null,
   "metadata": {},
   "outputs": [],
   "source": [
    "# Drop First Two Columns Again \n",
    "wd_deaths_melt = wd_deaths_melt.drop(['Country Code', 'Country Name'], axis = 1)"
   ]
  },
  {
   "cell_type": "code",
   "execution_count": null,
   "metadata": {},
   "outputs": [],
   "source": [
    "wd_deaths_melt.head()"
   ]
  },
  {
   "cell_type": "code",
   "execution_count": null,
   "metadata": {},
   "outputs": [],
   "source": [
    "# Groupby Year and use Sum Function to Total year counts \n",
    "wd_deaths_melt = wd_deaths_melt.groupby(\"Year\").value.sum().reset_index()\n",
    "wd_deaths_melt = wd_deaths_melt.rename(columns={'value': 'Deaths'})\n",
    "\n",
    "wd_deaths_melt.head()"
   ]
  },
  {
   "cell_type": "code",
   "execution_count": null,
   "metadata": {},
   "outputs": [],
   "source": [
    "# Import CSV file into DataFrame\n",
    "wd_injured = pd.read_csv('./Resources/wd-injured-natural-disasters.csv', sep=';')\n",
    "wd_injured.head() "
   ]
  },
  {
   "cell_type": "code",
   "execution_count": null,
   "metadata": {},
   "outputs": [],
   "source": [
    "# Drop first two colunns to make a List of Column Names \n",
    "year_df = wd_injured.drop(wd_injured.columns[[0, 1]], axis=1)\n",
    "\n",
    "# Create List of Column Names \n",
    "column_names = list(year_df.columns.values)\n",
    "column_names"
   ]
  },
  {
   "cell_type": "code",
   "execution_count": null,
   "metadata": {},
   "outputs": [],
   "source": [
    "# Use Pandas Melt to combine Columns Names into one \"Year\" Column \n",
    "injured_meltDF = pd.melt(wd_injured,\n",
    "                 id_vars=['Country Code',\n",
    "                          'Country Name'],\n",
    "                  value_vars= column_names ,\n",
    "                  var_name='Year')\n",
    "injured_meltDF.head()"
   ]
  },
  {
   "cell_type": "code",
   "execution_count": null,
   "metadata": {},
   "outputs": [],
   "source": [
    "# Drop First Two Columns Again \n",
    "injured_meltDF = injured_meltDF.drop(['Country Code', 'Country Name'], axis = 1)\n",
    "\n",
    "# Groupby Year and use Sum Function to Total year counts \n",
    "injured_meltDF = injured_meltDF.groupby(\"Year\").value.sum().reset_index()\n",
    "injured_meltDF = injured_meltDF.rename(columns={'value': 'Injured'})\n",
    "\n",
    "\n",
    "injured_meltDF.head()\n"
   ]
  },
  {
   "cell_type": "code",
   "execution_count": null,
   "metadata": {},
   "outputs": [],
   "source": [
    "wd_homeless = pd.read_csv('./Resources/wd-homeless-natural-disasters.csv', sep=';')\n",
    "wd_homeless.head()"
   ]
  },
  {
   "cell_type": "code",
   "execution_count": null,
   "metadata": {},
   "outputs": [],
   "source": [
    "year_df = wd_homeless.drop(wd_homeless.columns[[0, 1]], axis=1)\n",
    "column_names = list(year_df.columns.values)"
   ]
  },
  {
   "cell_type": "code",
   "execution_count": null,
   "metadata": {},
   "outputs": [],
   "source": [
    "homeless_meltDF = pd.melt(wd_homeless,\n",
    "                 id_vars=['Country Code',\n",
    "                          'Country Name'],\n",
    "                  value_vars= column_names ,\n",
    "                  var_name='Year')\n",
    "homeless_meltDF.head()"
   ]
  },
  {
   "cell_type": "code",
   "execution_count": null,
   "metadata": {},
   "outputs": [],
   "source": [
    "homeless_meltDF = homeless_meltDF.drop(['Country Code', 'Country Name'], axis = 1)\n",
    "homeless_meltDF = homeless_meltDF.groupby(\"Year\").value.sum().reset_index()\n",
    "homeless_meltDF = homeless_meltDF.rename(columns={'value': 'Homeless'})"
   ]
  },
  {
   "cell_type": "code",
   "execution_count": null,
   "metadata": {},
   "outputs": [],
   "source": [
    "homeless_meltDF.head()"
   ]
  },
  {
   "cell_type": "code",
   "execution_count": null,
   "metadata": {},
   "outputs": [],
   "source": [
    "# Import CSV file into DataFrame\n",
    "wd_damage = pd.read_csv('./Resources/wd-total-damage-natural-disasters.csv', sep=';')\n",
    "wd_damage.head()"
   ]
  },
  {
   "cell_type": "code",
   "execution_count": null,
   "metadata": {},
   "outputs": [],
   "source": [
    "# Drop first two colunns to make a List of Column Names \n",
    "year_df = wd_damage.drop(wd_damage.columns[[0, 1]], axis=1)\n",
    "\n",
    "# Create List of Column Names \n",
    "column_names = list(year_df.columns.values)\n",
    "column_names"
   ]
  },
  {
   "cell_type": "code",
   "execution_count": null,
   "metadata": {},
   "outputs": [],
   "source": [
    "# Use Pandas Melt to combine Columns Names into one \"Year\" Column \n",
    "damage_meltDF = pd.melt(wd_damage,\n",
    "                 id_vars=['Country Code',\n",
    "                          'Country Name'],\n",
    "                  value_vars= column_names ,\n",
    "                  var_name='Year')\n",
    "damage_meltDF.head()"
   ]
  },
  {
   "cell_type": "code",
   "execution_count": null,
   "metadata": {},
   "outputs": [],
   "source": [
    "# Drop First Two Columns Again \n",
    "damage_meltDF = damage_meltDF.drop(['Country Code', 'Country Name'], axis = 1)"
   ]
  },
  {
   "cell_type": "code",
   "execution_count": null,
   "metadata": {},
   "outputs": [],
   "source": [
    "# Groupby Year and use Sum Function to Total year counts \n",
    "damage_meltDF = damage_meltDF.groupby(\"Year\").value.sum().reset_index()\n",
    "damage_meltDF = damage_meltDF.rename(columns={'value': 'Damage'})\n",
    "\n",
    "damage_meltDF.head()"
   ]
  },
  {
   "cell_type": "code",
   "execution_count": null,
   "metadata": {},
   "outputs": [],
   "source": [
    "# Import CSV file into DataFrame\n",
    "wd_affected = pd.read_csv('./Resources/wd-total-affected-natural-disasters.csv', sep=';')\n",
    "\n",
    "wd_affected.head()"
   ]
  },
  {
   "cell_type": "code",
   "execution_count": null,
   "metadata": {},
   "outputs": [],
   "source": [
    "# Drop first two colunns to make a List of Column Names \n",
    "year_df = wd_affected.drop(wd_affected.columns[[0, 1]], axis=1)\n",
    "\n",
    "# Create List of Column Names \n",
    "column_names = list(year_df.columns.values)\n",
    "column_names"
   ]
  },
  {
   "cell_type": "code",
   "execution_count": null,
   "metadata": {},
   "outputs": [],
   "source": [
    "# Use Pandas Melt to combine Columns Names into one \"Year\" Column \n",
    "affected_meltDF = pd.melt(wd_affected,\n",
    "                 id_vars=['Country Code',\n",
    "                          'Country Name'],\n",
    "                  value_vars= column_names ,\n",
    "                  var_name='Year')\n",
    "affected_meltDF.head()"
   ]
  },
  {
   "cell_type": "code",
   "execution_count": null,
   "metadata": {},
   "outputs": [],
   "source": [
    "# Drop First Two Columns Again \n",
    "affected_meltDF = affected_meltDF.drop(['Country Code', 'Country Name'], axis = 1)\n",
    "\n",
    "# Groupby Year and use Sum Function to Total year counts \n",
    "affected_meltDF = affected_meltDF.groupby(\"Year\").value.sum().reset_index()\n",
    "affected_meltDF = affected_meltDF.rename(columns={'value': 'Affected'})\n",
    "\n",
    "affected_meltDF.head()"
   ]
  },
  {
   "cell_type": "code",
   "execution_count": null,
   "metadata": {},
   "outputs": [],
   "source": [
    "merged_df = pd.merge(wd_deaths_melt, injured_meltDF , on = \"Year\")\n",
    "merged_df = pd.merge(merged_df, damage_meltDF , on = \"Year\")\n",
    "merged_df = pd.merge(merged_df, affected_meltDF , on = \"Year\")\n",
    "merged_df = pd.merge(merged_df, homeless_meltDF , on = \"Year\")\n",
    "merged_df.head()"
   ]
  },
  {
   "cell_type": "code",
   "execution_count": null,
   "metadata": {},
   "outputs": [],
   "source": [
    "merged_df.set_index('Year', inplace = True)\n",
    "merged_df.index.name = \"Year\"\n",
    "merged_df.columns.name = merged_df.index.name\n",
    "merged_df.index.name = None"
   ]
  },
  {
   "cell_type": "code",
   "execution_count": 32,
   "metadata": {},
   "outputs": [
    {
     "data": {
      "text/html": [
       "<div>\n",
       "<style scoped>\n",
       "    .dataframe tbody tr th:only-of-type {\n",
       "        vertical-align: middle;\n",
       "    }\n",
       "\n",
       "    .dataframe tbody tr th {\n",
       "        vertical-align: top;\n",
       "    }\n",
       "\n",
       "    .dataframe thead th {\n",
       "        text-align: right;\n",
       "    }\n",
       "</style>\n",
       "<table border=\"1\" class=\"dataframe\">\n",
       "  <thead>\n",
       "    <tr style=\"text-align: right;\">\n",
       "      <th>Year</th>\n",
       "      <th>Deaths</th>\n",
       "      <th>Injured</th>\n",
       "      <th>Damage</th>\n",
       "      <th>Affected</th>\n",
       "      <th>Homeless</th>\n",
       "    </tr>\n",
       "  </thead>\n",
       "  <tbody>\n",
       "    <tr>\n",
       "      <th>1900</th>\n",
       "      <td>1267360.0</td>\n",
       "      <td>0.0</td>\n",
       "      <td>30000.0</td>\n",
       "      <td>0.0</td>\n",
       "      <td>0.0</td>\n",
       "    </tr>\n",
       "    <tr>\n",
       "      <th>1901</th>\n",
       "      <td>200018.0</td>\n",
       "      <td>0.0</td>\n",
       "      <td>0.0</td>\n",
       "      <td>0.0</td>\n",
       "      <td>0.0</td>\n",
       "    </tr>\n",
       "    <tr>\n",
       "      <th>1902</th>\n",
       "      <td>41475.0</td>\n",
       "      <td>0.0</td>\n",
       "      <td>0.0</td>\n",
       "      <td>0.0</td>\n",
       "      <td>0.0</td>\n",
       "    </tr>\n",
       "    <tr>\n",
       "      <th>1903</th>\n",
       "      <td>6506.0</td>\n",
       "      <td>23.0</td>\n",
       "      <td>480000.0</td>\n",
       "      <td>23.0</td>\n",
       "      <td>0.0</td>\n",
       "    </tr>\n",
       "    <tr>\n",
       "      <th>1904</th>\n",
       "      <td>0.0</td>\n",
       "      <td>0.0</td>\n",
       "      <td>0.0</td>\n",
       "      <td>0.0</td>\n",
       "      <td>0.0</td>\n",
       "    </tr>\n",
       "  </tbody>\n",
       "</table>\n",
       "</div>"
      ],
      "text/plain": [
       "Year     Deaths  Injured    Damage  Affected  Homeless\n",
       "1900  1267360.0      0.0   30000.0       0.0       0.0\n",
       "1901   200018.0      0.0       0.0       0.0       0.0\n",
       "1902    41475.0      0.0       0.0       0.0       0.0\n",
       "1903     6506.0     23.0  480000.0      23.0       0.0\n",
       "1904        0.0      0.0       0.0       0.0       0.0"
      ]
     },
     "execution_count": 32,
     "metadata": {},
     "output_type": "execute_result"
    }
   ],
   "source": [
    "merged_df.head()"
   ]
  },
  {
   "cell_type": "code",
   "execution_count": null,
   "metadata": {},
   "outputs": [],
   "source": [
    "# merged_df.loc['1900':'2014']"
   ]
  }
 ],
 "metadata": {
  "kernelspec": {
   "display_name": "Python 3",
   "language": "python",
   "name": "python3"
  },
  "language_info": {
   "codemirror_mode": {
    "name": "ipython",
    "version": 3
   },
   "file_extension": ".py",
   "mimetype": "text/x-python",
   "name": "python",
   "nbconvert_exporter": "python",
   "pygments_lexer": "ipython3",
   "version": "3.7.4"
  }
 },
 "nbformat": 4,
 "nbformat_minor": 2
}
